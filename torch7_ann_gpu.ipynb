{
 "cells": [
  {
   "cell_type": "code",
   "execution_count": 2,
   "id": "2c5641e8-3f49-4601-966e-683f49d812bc",
   "metadata": {},
   "outputs": [],
   "source": [
    "import torch\n",
    "import torch.nn as nn\n",
    "import torch.optim as optim\n",
    "from sklearn.model_selection import train_test_split\n",
    "from torch.utils.data import Dataset, DataLoader\n",
    "import matplotlib.pyplot as plt\n",
    "import pandas as pd"
   ]
  },
  {
   "cell_type": "code",
   "execution_count": 3,
   "id": "d89e993a-f33a-4ecb-b1ea-8c6598ea7d13",
   "metadata": {},
   "outputs": [
    {
     "data": {
      "text/plain": [
       "<torch._C.Generator at 0x1f07ff5e9f0>"
      ]
     },
     "execution_count": 3,
     "metadata": {},
     "output_type": "execute_result"
    }
   ],
   "source": [
    "torch.manual_seed(42)"
   ]
  },
  {
   "cell_type": "code",
   "execution_count": 4,
   "id": "36279f87-0488-4a13-b774-5cb972de91f4",
   "metadata": {},
   "outputs": [
    {
     "data": {
      "text/html": [
       "<div>\n",
       "<style scoped>\n",
       "    .dataframe tbody tr th:only-of-type {\n",
       "        vertical-align: middle;\n",
       "    }\n",
       "\n",
       "    .dataframe tbody tr th {\n",
       "        vertical-align: top;\n",
       "    }\n",
       "\n",
       "    .dataframe thead th {\n",
       "        text-align: right;\n",
       "    }\n",
       "</style>\n",
       "<table border=\"1\" class=\"dataframe\">\n",
       "  <thead>\n",
       "    <tr style=\"text-align: right;\">\n",
       "      <th></th>\n",
       "      <th>label</th>\n",
       "      <th>pixel1</th>\n",
       "      <th>pixel2</th>\n",
       "      <th>pixel3</th>\n",
       "      <th>pixel4</th>\n",
       "      <th>pixel5</th>\n",
       "      <th>pixel6</th>\n",
       "      <th>pixel7</th>\n",
       "      <th>pixel8</th>\n",
       "      <th>pixel9</th>\n",
       "      <th>...</th>\n",
       "      <th>pixel775</th>\n",
       "      <th>pixel776</th>\n",
       "      <th>pixel777</th>\n",
       "      <th>pixel778</th>\n",
       "      <th>pixel779</th>\n",
       "      <th>pixel780</th>\n",
       "      <th>pixel781</th>\n",
       "      <th>pixel782</th>\n",
       "      <th>pixel783</th>\n",
       "      <th>pixel784</th>\n",
       "    </tr>\n",
       "  </thead>\n",
       "  <tbody>\n",
       "    <tr>\n",
       "      <th>0</th>\n",
       "      <td>2</td>\n",
       "      <td>0</td>\n",
       "      <td>0</td>\n",
       "      <td>0</td>\n",
       "      <td>0</td>\n",
       "      <td>0</td>\n",
       "      <td>0</td>\n",
       "      <td>0</td>\n",
       "      <td>0</td>\n",
       "      <td>0</td>\n",
       "      <td>...</td>\n",
       "      <td>0</td>\n",
       "      <td>0</td>\n",
       "      <td>0</td>\n",
       "      <td>0</td>\n",
       "      <td>0</td>\n",
       "      <td>0</td>\n",
       "      <td>0</td>\n",
       "      <td>0</td>\n",
       "      <td>0</td>\n",
       "      <td>0</td>\n",
       "    </tr>\n",
       "    <tr>\n",
       "      <th>1</th>\n",
       "      <td>9</td>\n",
       "      <td>0</td>\n",
       "      <td>0</td>\n",
       "      <td>0</td>\n",
       "      <td>0</td>\n",
       "      <td>0</td>\n",
       "      <td>0</td>\n",
       "      <td>0</td>\n",
       "      <td>0</td>\n",
       "      <td>0</td>\n",
       "      <td>...</td>\n",
       "      <td>0</td>\n",
       "      <td>0</td>\n",
       "      <td>0</td>\n",
       "      <td>0</td>\n",
       "      <td>0</td>\n",
       "      <td>0</td>\n",
       "      <td>0</td>\n",
       "      <td>0</td>\n",
       "      <td>0</td>\n",
       "      <td>0</td>\n",
       "    </tr>\n",
       "    <tr>\n",
       "      <th>2</th>\n",
       "      <td>6</td>\n",
       "      <td>0</td>\n",
       "      <td>0</td>\n",
       "      <td>0</td>\n",
       "      <td>0</td>\n",
       "      <td>0</td>\n",
       "      <td>0</td>\n",
       "      <td>0</td>\n",
       "      <td>5</td>\n",
       "      <td>0</td>\n",
       "      <td>...</td>\n",
       "      <td>0</td>\n",
       "      <td>0</td>\n",
       "      <td>0</td>\n",
       "      <td>30</td>\n",
       "      <td>43</td>\n",
       "      <td>0</td>\n",
       "      <td>0</td>\n",
       "      <td>0</td>\n",
       "      <td>0</td>\n",
       "      <td>0</td>\n",
       "    </tr>\n",
       "    <tr>\n",
       "      <th>3</th>\n",
       "      <td>0</td>\n",
       "      <td>0</td>\n",
       "      <td>0</td>\n",
       "      <td>0</td>\n",
       "      <td>1</td>\n",
       "      <td>2</td>\n",
       "      <td>0</td>\n",
       "      <td>0</td>\n",
       "      <td>0</td>\n",
       "      <td>0</td>\n",
       "      <td>...</td>\n",
       "      <td>3</td>\n",
       "      <td>0</td>\n",
       "      <td>0</td>\n",
       "      <td>0</td>\n",
       "      <td>0</td>\n",
       "      <td>1</td>\n",
       "      <td>0</td>\n",
       "      <td>0</td>\n",
       "      <td>0</td>\n",
       "      <td>0</td>\n",
       "    </tr>\n",
       "    <tr>\n",
       "      <th>4</th>\n",
       "      <td>3</td>\n",
       "      <td>0</td>\n",
       "      <td>0</td>\n",
       "      <td>0</td>\n",
       "      <td>0</td>\n",
       "      <td>0</td>\n",
       "      <td>0</td>\n",
       "      <td>0</td>\n",
       "      <td>0</td>\n",
       "      <td>0</td>\n",
       "      <td>...</td>\n",
       "      <td>0</td>\n",
       "      <td>0</td>\n",
       "      <td>0</td>\n",
       "      <td>0</td>\n",
       "      <td>0</td>\n",
       "      <td>0</td>\n",
       "      <td>0</td>\n",
       "      <td>0</td>\n",
       "      <td>0</td>\n",
       "      <td>0</td>\n",
       "    </tr>\n",
       "  </tbody>\n",
       "</table>\n",
       "<p>5 rows × 785 columns</p>\n",
       "</div>"
      ],
      "text/plain": [
       "   label  pixel1  pixel2  pixel3  pixel4  pixel5  pixel6  pixel7  pixel8  \\\n",
       "0      2       0       0       0       0       0       0       0       0   \n",
       "1      9       0       0       0       0       0       0       0       0   \n",
       "2      6       0       0       0       0       0       0       0       5   \n",
       "3      0       0       0       0       1       2       0       0       0   \n",
       "4      3       0       0       0       0       0       0       0       0   \n",
       "\n",
       "   pixel9  ...  pixel775  pixel776  pixel777  pixel778  pixel779  pixel780  \\\n",
       "0       0  ...         0         0         0         0         0         0   \n",
       "1       0  ...         0         0         0         0         0         0   \n",
       "2       0  ...         0         0         0        30        43         0   \n",
       "3       0  ...         3         0         0         0         0         1   \n",
       "4       0  ...         0         0         0         0         0         0   \n",
       "\n",
       "   pixel781  pixel782  pixel783  pixel784  \n",
       "0         0         0         0         0  \n",
       "1         0         0         0         0  \n",
       "2         0         0         0         0  \n",
       "3         0         0         0         0  \n",
       "4         0         0         0         0  \n",
       "\n",
       "[5 rows x 785 columns]"
      ]
     },
     "execution_count": 4,
     "metadata": {},
     "output_type": "execute_result"
    }
   ],
   "source": [
    "df = pd.read_csv('D:/github/pytorch_/fashion-mnist_train.csv/fashion-mnist_train.csv')\n",
    "df.head()"
   ]
  },
  {
   "cell_type": "code",
   "execution_count": 5,
   "id": "c77ac566-26ec-4d0b-97cb-e2a612ef2320",
   "metadata": {},
   "outputs": [
    {
     "name": "stdout",
     "output_type": "stream",
     "text": [
      "Using device: cuda\n"
     ]
    }
   ],
   "source": [
    "device = torch.device('cuda')\n",
    "print(f'Using device: {device}')"
   ]
  },
  {
   "cell_type": "code",
   "execution_count": 6,
   "id": "54d35b55-cbcd-486e-80ce-f322bd462388",
   "metadata": {},
   "outputs": [],
   "source": [
    "# train test split\n",
    "\n",
    "X = df.iloc[:, 1:].values\n",
    "y = df.iloc[:, 0].values"
   ]
  },
  {
   "cell_type": "code",
   "execution_count": 7,
   "id": "94be2186-5b27-4214-ad97-3249108838c0",
   "metadata": {},
   "outputs": [],
   "source": [
    "X_train, X_test, y_train, y_test = train_test_split(X, y, test_size=0.2, random_state=42)"
   ]
  },
  {
   "cell_type": "code",
   "execution_count": 8,
   "id": "4f715670-ec87-43c3-97ab-8a31c3706c6a",
   "metadata": {},
   "outputs": [],
   "source": [
    "# scaling the feautures\n",
    "X_train = X_train/255.0\n",
    "X_test = X_test/255.0"
   ]
  },
  {
   "cell_type": "code",
   "execution_count": 9,
   "id": "3481e552-b4bf-4e0b-92b7-85920132d0c4",
   "metadata": {},
   "outputs": [],
   "source": [
    "# create CustomDataset Class\n",
    "class CustomDataset(Dataset):\n",
    "\n",
    "  def __init__(self, features, labels):\n",
    "\n",
    "    self.features = torch.tensor(features, dtype=torch.float32)\n",
    "    self.labels = torch.tensor(labels, dtype=torch.long)\n",
    "\n",
    "  def __len__(self):\n",
    "\n",
    "    return len(self.features)\n",
    "\n",
    "  def __getitem__(self, index):\n",
    "\n",
    "    return self.features[index], self.labels[index]"
   ]
  },
  {
   "cell_type": "code",
   "execution_count": 10,
   "id": "42d1f3fb-abeb-45a3-b99f-27bdd07b952e",
   "metadata": {},
   "outputs": [],
   "source": [
    "# create train_dataset object\n",
    "train_dataset = CustomDataset(X_train, y_train)"
   ]
  },
  {
   "cell_type": "code",
   "execution_count": 11,
   "id": "e14be80b-b3f8-4429-a08f-55b2b41f81c2",
   "metadata": {},
   "outputs": [],
   "source": [
    "# create test_dataset object\n",
    "test_dataset = CustomDataset(X_test, y_test)"
   ]
  },
  {
   "cell_type": "code",
   "execution_count": 15,
   "id": "92aa5761-b00b-4f20-b802-6e3e8a019441",
   "metadata": {},
   "outputs": [],
   "source": [
    "# create train and test loader\n",
    "train_loader = DataLoader(train_dataset, batch_size=128, shuffle=True, pin_memory = True)\n",
    "test_loader = DataLoader(test_dataset, batch_size=128, shuffle=False, pin_memory = True)"
   ]
  },
  {
   "cell_type": "code",
   "execution_count": 16,
   "id": "cb8e7475-0fb2-43a2-9765-920bf188422b",
   "metadata": {},
   "outputs": [],
   "source": [
    "class MyNN(nn.Module):\n",
    "\n",
    "    def __init__(self, num_features):\n",
    "\n",
    "        super().__init__()\n",
    "        self.model = nn.Sequential(\n",
    "            nn.Linear(num_features, 128),\n",
    "            nn.ReLU(),\n",
    "            nn.Linear(128, 64),\n",
    "            nn.ReLU(),\n",
    "            nn.Linear(64, 10) # don't need to add softmax layer\n",
    "        )\n",
    "\n",
    "    def forward(self, x):\n",
    "        return self.model(x)\n"
   ]
  },
  {
   "cell_type": "code",
   "execution_count": 17,
   "id": "ab303db2-7704-4b1c-ac07-2842543b310f",
   "metadata": {},
   "outputs": [],
   "source": [
    "epochs = 100\n",
    "learning_rate = 0.1"
   ]
  },
  {
   "cell_type": "code",
   "execution_count": 18,
   "id": "8f6901ae-cc48-4cd5-8030-28c4e4c0320f",
   "metadata": {},
   "outputs": [],
   "source": [
    "model = MyNN(X_train.shape[1])\n",
    "\n",
    "model = model.to(device)\n",
    "\n",
    "criterion = nn.CrossEntropyLoss()\n",
    "\n",
    "optimizer = optim.SGD(model.parameters(), lr = learning_rate)"
   ]
  },
  {
   "cell_type": "code",
   "execution_count": 19,
   "id": "ccd61e5a-61cd-4668-ae94-20eea583d435",
   "metadata": {},
   "outputs": [
    {
     "name": "stdout",
     "output_type": "stream",
     "text": [
      "Epoch: 1, Loss: 0.9019714527924856\n",
      "Epoch: 2, Loss: 0.5293200555642446\n",
      "Epoch: 3, Loss: 0.4630549712181091\n",
      "Epoch: 4, Loss: 0.42495631714661913\n",
      "Epoch: 5, Loss: 0.4022843105395635\n",
      "Epoch: 6, Loss: 0.38550322751204175\n",
      "Epoch: 7, Loss: 0.3660860001643499\n",
      "Epoch: 8, Loss: 0.35455395424366\n",
      "Epoch: 9, Loss: 0.3428513403336207\n",
      "Epoch: 10, Loss: 0.33357725163300833\n",
      "Epoch: 11, Loss: 0.3241902690331141\n",
      "Epoch: 12, Loss: 0.313672908782959\n",
      "Epoch: 13, Loss: 0.30772691822052\n",
      "Epoch: 14, Loss: 0.29807130150000255\n",
      "Epoch: 15, Loss: 0.2954384444554647\n",
      "Epoch: 16, Loss: 0.2881200405955315\n",
      "Epoch: 17, Loss: 0.28084643971920015\n",
      "Epoch: 18, Loss: 0.2744240506887436\n",
      "Epoch: 19, Loss: 0.2708665322462718\n",
      "Epoch: 20, Loss: 0.26529519534111023\n",
      "Epoch: 21, Loss: 0.2584998475710551\n",
      "Epoch: 22, Loss: 0.25400416731834413\n",
      "Epoch: 23, Loss: 0.2490715756813685\n",
      "Epoch: 24, Loss: 0.24230582696199418\n",
      "Epoch: 25, Loss: 0.2404193305770556\n",
      "Epoch: 26, Loss: 0.23457880459229152\n",
      "Epoch: 27, Loss: 0.23248336839675904\n",
      "Epoch: 28, Loss: 0.22861031182607014\n",
      "Epoch: 29, Loss: 0.22568844004472097\n",
      "Epoch: 30, Loss: 0.21880956955750783\n",
      "Epoch: 31, Loss: 0.21513085502386092\n",
      "Epoch: 32, Loss: 0.21301446888844172\n",
      "Epoch: 33, Loss: 0.2080371870994568\n",
      "Epoch: 34, Loss: 0.2063741194109122\n",
      "Epoch: 35, Loss: 0.20340188171466192\n",
      "Epoch: 36, Loss: 0.19844153942664464\n",
      "Epoch: 37, Loss: 0.19756771993637084\n",
      "Epoch: 38, Loss: 0.19116629908482233\n",
      "Epoch: 39, Loss: 0.19183899092674256\n",
      "Epoch: 40, Loss: 0.18533591306209565\n",
      "Epoch: 41, Loss: 0.18345640139778455\n",
      "Epoch: 42, Loss: 0.18119353691736856\n",
      "Epoch: 43, Loss: 0.1791954468290011\n",
      "Epoch: 44, Loss: 0.1736930858095487\n",
      "Epoch: 45, Loss: 0.1723040615518888\n",
      "Epoch: 46, Loss: 0.16956293766697247\n",
      "Epoch: 47, Loss: 0.16935053832332292\n",
      "Epoch: 48, Loss: 0.16524267411231994\n",
      "Epoch: 49, Loss: 0.16413465706507366\n",
      "Epoch: 50, Loss: 0.15948576319217683\n",
      "Epoch: 51, Loss: 0.15788466256856917\n",
      "Epoch: 52, Loss: 0.15406596281131107\n",
      "Epoch: 53, Loss: 0.15088568834463756\n",
      "Epoch: 54, Loss: 0.149532197167476\n",
      "Epoch: 55, Loss: 0.1492236636976401\n",
      "Epoch: 56, Loss: 0.14691604255636534\n",
      "Epoch: 57, Loss: 0.14527307698130607\n",
      "Epoch: 58, Loss: 0.147743903418382\n",
      "Epoch: 59, Loss: 0.1405545552968979\n",
      "Epoch: 60, Loss: 0.139739274730285\n",
      "Epoch: 61, Loss: 0.13387919970353446\n",
      "Epoch: 62, Loss: 0.13612493340174356\n",
      "Epoch: 63, Loss: 0.13229030098517736\n",
      "Epoch: 64, Loss: 0.1319698515534401\n",
      "Epoch: 65, Loss: 0.12639832851290703\n",
      "Epoch: 66, Loss: 0.12400910060604413\n",
      "Epoch: 67, Loss: 0.12213341086109479\n",
      "Epoch: 68, Loss: 0.1210753516058127\n",
      "Epoch: 69, Loss: 0.11754201390345892\n",
      "Epoch: 70, Loss: 0.1156412396132946\n",
      "Epoch: 71, Loss: 0.11608132942517599\n",
      "Epoch: 72, Loss: 0.11610079967975616\n",
      "Epoch: 73, Loss: 0.11133906545241674\n",
      "Epoch: 74, Loss: 0.11351217997074127\n",
      "Epoch: 75, Loss: 0.11375617770353953\n",
      "Epoch: 76, Loss: 0.10840332982937495\n",
      "Epoch: 77, Loss: 0.10688756314416727\n",
      "Epoch: 78, Loss: 0.1062135734508435\n",
      "Epoch: 79, Loss: 0.10475506942470869\n",
      "Epoch: 80, Loss: 0.10251840621729692\n",
      "Epoch: 81, Loss: 0.10011143346627553\n",
      "Epoch: 82, Loss: 0.09803246878584226\n",
      "Epoch: 83, Loss: 0.09782120660940806\n",
      "Epoch: 84, Loss: 0.10385603093107541\n",
      "Epoch: 85, Loss: 0.09734769473721584\n",
      "Epoch: 86, Loss: 0.09402103363970915\n",
      "Epoch: 87, Loss: 0.095982398579518\n",
      "Epoch: 88, Loss: 0.08700669466952483\n",
      "Epoch: 89, Loss: 0.09149930595854919\n",
      "Epoch: 90, Loss: 0.08812171002229055\n",
      "Epoch: 91, Loss: 0.08617331829170385\n",
      "Epoch: 92, Loss: 0.0869972660044829\n",
      "Epoch: 93, Loss: 0.0831485531628132\n",
      "Epoch: 94, Loss: 0.08121966745952765\n",
      "Epoch: 95, Loss: 0.07779904238382976\n",
      "Epoch: 96, Loss: 0.08214011005560556\n",
      "Epoch: 97, Loss: 0.0786232741822799\n",
      "Epoch: 98, Loss: 0.07440221192936103\n",
      "Epoch: 99, Loss: 0.07604549288252989\n",
      "Epoch: 100, Loss: 0.07411483160654704\n"
     ]
    }
   ],
   "source": [
    "for epoch in range(epochs):\n",
    "\n",
    "    total_epoch_loss = 0\n",
    "    \n",
    "    for batch_features, batch_labels in train_loader:\n",
    "\n",
    "        batch_features, batch_labels = batch_features.to(device), batch_labels.to(device)\n",
    "        outputs = model(batch_features)\n",
    "\n",
    "        loss = criterion(outputs, batch_labels)\n",
    "\n",
    "        #back pass\n",
    "        \n",
    "        optimizer.zero_grad()\n",
    "        \n",
    "        loss.backward()\n",
    "\n",
    "        optimizer.step() # updating gradient\n",
    "\n",
    "        total_epoch_loss += loss.item()\n",
    "\n",
    "    avg_loss = total_epoch_loss/len(train_loader)\n",
    "\n",
    "    print(f'Epoch: {epoch+1}, Loss: {avg_loss}')\n",
    "        "
   ]
  },
  {
   "cell_type": "code",
   "execution_count": 20,
   "id": "e789b882-7cb5-4904-a670-37ec207d76db",
   "metadata": {},
   "outputs": [
    {
     "data": {
      "text/plain": [
       "MyNN(\n",
       "  (model): Sequential(\n",
       "    (0): Linear(in_features=784, out_features=128, bias=True)\n",
       "    (1): ReLU()\n",
       "    (2): Linear(in_features=128, out_features=64, bias=True)\n",
       "    (3): ReLU()\n",
       "    (4): Linear(in_features=64, out_features=10, bias=True)\n",
       "  )\n",
       ")"
      ]
     },
     "execution_count": 20,
     "metadata": {},
     "output_type": "execute_result"
    }
   ],
   "source": [
    "model.eval()"
   ]
  },
  {
   "cell_type": "code",
   "execution_count": 21,
   "id": "21645678-4155-40f0-8eaf-8991d18de789",
   "metadata": {},
   "outputs": [
    {
     "name": "stdout",
     "output_type": "stream",
     "text": [
      "0.88925\n"
     ]
    }
   ],
   "source": [
    "total = 0\n",
    "correct = 0\n",
    "\n",
    "with torch.no_grad():\n",
    "\n",
    "    for batch_features, batch_labels in test_loader:\n",
    "\n",
    "        batch_features, batch_labels = batch_features.to(device), batch_labels.to(device)\n",
    "        outputs = model(batch_features)\n",
    "\n",
    "        _ , predicted = torch.max(outputs, 1)\n",
    "\n",
    "        total += batch_labels.shape[0]\n",
    "        correct += (predicted == batch_labels).sum().item()\n",
    "\n",
    "print(correct/total)"
   ]
  },
  {
   "cell_type": "code",
   "execution_count": 22,
   "id": "874a0965-8da7-419b-87ba-f25f8ce751e2",
   "metadata": {},
   "outputs": [
    {
     "name": "stdout",
     "output_type": "stream",
     "text": [
      "0.9775833333333334\n"
     ]
    }
   ],
   "source": [
    "total = 0\n",
    "correct = 0\n",
    "\n",
    "with torch.no_grad():\n",
    "\n",
    "    for batch_features, batch_labels in train_loader:\n",
    "\n",
    "        batch_features, batch_labels = batch_features.to(device), batch_labels.to(device)\n",
    "        outputs = model(batch_features)\n",
    "\n",
    "        _ , predicted = torch.max(outputs, 1)\n",
    "\n",
    "        total += batch_labels.shape[0]\n",
    "        correct += (predicted == batch_labels).sum().item()\n",
    "\n",
    "print(correct/total)"
   ]
  },
  {
   "cell_type": "code",
   "execution_count": null,
   "id": "489e300b-382a-4f05-9f31-d2c36c0bc325",
   "metadata": {},
   "outputs": [],
   "source": []
  }
 ],
 "metadata": {
  "kernelspec": {
   "display_name": "Python 3 (ipykernel)",
   "language": "python",
   "name": "python3"
  },
  "language_info": {
   "codemirror_mode": {
    "name": "ipython",
    "version": 3
   },
   "file_extension": ".py",
   "mimetype": "text/x-python",
   "name": "python",
   "nbconvert_exporter": "python",
   "pygments_lexer": "ipython3",
   "version": "3.12.4"
  }
 },
 "nbformat": 4,
 "nbformat_minor": 5
}
