{
 "cells": [
  {
   "cell_type": "code",
   "execution_count": 1,
   "id": "084fc227-6b98-4a4a-a5b8-7777a62099b0",
   "metadata": {},
   "outputs": [
    {
     "name": "stdout",
     "output_type": "stream",
     "text": [
      "2.4.1+cu121\n"
     ]
    }
   ],
   "source": [
    "import torch\n",
    "print(torch.__version__)"
   ]
  },
  {
   "cell_type": "code",
   "execution_count": 4,
   "id": "0d6bdc28-8ca7-4921-a3b3-6a1bbbb17662",
   "metadata": {},
   "outputs": [
    {
     "name": "stdout",
     "output_type": "stream",
     "text": [
      "GPU is avail\n",
      "using gpu: NVIDIA GeForce RTX 3050 Laptop GPU\n"
     ]
    }
   ],
   "source": [
    "if torch.cuda.is_available():\n",
    "    print(\"GPU is avail\")\n",
    "    print(f\"using gpu: {torch.cuda.get_device_name(0)}\")\n",
    "else:\n",
    "    print(\"using CPU\")"
   ]
  },
  {
   "cell_type": "code",
   "execution_count": 8,
   "id": "2875fa3c-366a-4995-b4f3-ed29511a104e",
   "metadata": {},
   "outputs": [
    {
     "data": {
      "text/plain": [
       "tensor([[-3.5776e-07,  1.3691e-42,  0.0000e+00],\n",
       "        [ 0.0000e+00,  0.0000e+00,  0.0000e+00]])"
      ]
     },
     "execution_count": 8,
     "metadata": {},
     "output_type": "execute_result"
    }
   ],
   "source": [
    "a = torch.empty(2,3)\n",
    "a"
   ]
  },
  {
   "cell_type": "code",
   "execution_count": 7,
   "id": "0b369d66-c33a-4311-9fcf-5f4f40cd829c",
   "metadata": {},
   "outputs": [
    {
     "data": {
      "text/plain": [
       "torch.Tensor"
      ]
     },
     "execution_count": 7,
     "metadata": {},
     "output_type": "execute_result"
    }
   ],
   "source": [
    "type(a)"
   ]
  },
  {
   "cell_type": "code",
   "execution_count": 9,
   "id": "91608f75-27cf-45da-8958-e7f86b335717",
   "metadata": {},
   "outputs": [
    {
     "data": {
      "text/plain": [
       "tensor([[0., 0., 0., 0.],\n",
       "        [0., 0., 0., 0.],\n",
       "        [0., 0., 0., 0.]])"
      ]
     },
     "execution_count": 9,
     "metadata": {},
     "output_type": "execute_result"
    }
   ],
   "source": [
    "torch.zeros(3,4)"
   ]
  },
  {
   "cell_type": "code",
   "execution_count": 10,
   "id": "b4a95269-d35a-47ca-8845-5b6045369246",
   "metadata": {},
   "outputs": [
    {
     "data": {
      "text/plain": [
       "tensor([[1., 1., 1.],\n",
       "        [1., 1., 1.]])"
      ]
     },
     "execution_count": 10,
     "metadata": {},
     "output_type": "execute_result"
    }
   ],
   "source": [
    "torch.ones(2,3)"
   ]
  },
  {
   "cell_type": "code",
   "execution_count": 14,
   "id": "ec0d02e8-14ae-4108-a19f-86a2e372ba86",
   "metadata": {},
   "outputs": [
    {
     "data": {
      "text/plain": [
       "tensor([[0.3693, 0.9460, 0.2772],\n",
       "        [0.0334, 0.7925, 0.3134]])"
      ]
     },
     "execution_count": 14,
     "metadata": {},
     "output_type": "execute_result"
    }
   ],
   "source": [
    "torch.rand(2, 3) # without using seed"
   ]
  },
  {
   "cell_type": "code",
   "execution_count": 16,
   "id": "e6e2d5aa-8c89-45cc-9b21-77a4270b4dbb",
   "metadata": {},
   "outputs": [
    {
     "data": {
      "text/plain": [
       "tensor([[0.3189, 0.6136, 0.4418],\n",
       "        [0.2580, 0.2724, 0.6261]])"
      ]
     },
     "execution_count": 16,
     "metadata": {},
     "output_type": "execute_result"
    }
   ],
   "source": [
    "torch.manual_seed(1000)\n",
    "torch.rand(2,3)"
   ]
  },
  {
   "cell_type": "code",
   "execution_count": 18,
   "id": "f52e45e1-7ea8-4538-b6ab-b348405640bc",
   "metadata": {},
   "outputs": [
    {
     "data": {
      "text/plain": [
       "tensor([[ 1,  2,  3],\n",
       "        [ 4, 56,  7]])"
      ]
     },
     "execution_count": 18,
     "metadata": {},
     "output_type": "execute_result"
    }
   ],
   "source": [
    "torch.tensor([[1, 2, 3], [4, 56, 7]])"
   ]
  },
  {
   "cell_type": "code",
   "execution_count": 20,
   "id": "c0226a75-8cce-46e4-bbf3-a8f3ffb2be5d",
   "metadata": {},
   "outputs": [
    {
     "data": {
      "text/plain": [
       "tensor([0, 2, 4, 6, 8])"
      ]
     },
     "execution_count": 20,
     "metadata": {},
     "output_type": "execute_result"
    }
   ],
   "source": [
    "torch.arange(0, 10, 2)"
   ]
  },
  {
   "cell_type": "code",
   "execution_count": 21,
   "id": "3db7df47-8fa9-4024-b924-3477b09a7d01",
   "metadata": {},
   "outputs": [
    {
     "data": {
      "text/plain": [
       "tensor([ 0.0000,  1.1111,  2.2222,  3.3333,  4.4444,  5.5556,  6.6667,  7.7778,\n",
       "         8.8889, 10.0000])"
      ]
     },
     "execution_count": 21,
     "metadata": {},
     "output_type": "execute_result"
    }
   ],
   "source": [
    "torch.linspace(0, 10, 10)"
   ]
  },
  {
   "cell_type": "code",
   "execution_count": 23,
   "id": "4a0a42ed-b8e2-4ed5-907f-aa713420c846",
   "metadata": {},
   "outputs": [
    {
     "data": {
      "text/plain": [
       "tensor([[5, 5, 5],\n",
       "        [5, 5, 5],\n",
       "        [5, 5, 5]])"
      ]
     },
     "execution_count": 23,
     "metadata": {},
     "output_type": "execute_result"
    }
   ],
   "source": [
    "torch.full((3, 3), 5) # 3x3 tensor filled with every value 5"
   ]
  },
  {
   "cell_type": "code",
   "execution_count": 25,
   "id": "d104f833-a313-4d15-8045-d649920059ba",
   "metadata": {},
   "outputs": [
    {
     "data": {
      "text/plain": [
       "tensor([[1, 2, 3],\n",
       "        [4, 5, 6]])"
      ]
     },
     "execution_count": 25,
     "metadata": {},
     "output_type": "execute_result"
    }
   ],
   "source": [
    "x = torch.tensor([[1, 2, 3], [4, 5, 6]])\n",
    "x"
   ]
  },
  {
   "cell_type": "code",
   "execution_count": 27,
   "id": "7f1edae6-5760-4e64-b6a9-e164ceea883f",
   "metadata": {},
   "outputs": [
    {
     "data": {
      "text/plain": [
       "torch.Size([2, 3])"
      ]
     },
     "execution_count": 27,
     "metadata": {},
     "output_type": "execute_result"
    }
   ],
   "source": [
    "x.shape"
   ]
  },
  {
   "cell_type": "code",
   "execution_count": 28,
   "id": "ac37aaaa-dd92-4408-9b98-de9d40982eb8",
   "metadata": {},
   "outputs": [
    {
     "data": {
      "text/plain": [
       "tensor([[0, 0, 0],\n",
       "        [0, 0, 0]])"
      ]
     },
     "execution_count": 28,
     "metadata": {},
     "output_type": "execute_result"
    }
   ],
   "source": [
    "torch.empty_like(x) # same shape diff. values"
   ]
  },
  {
   "cell_type": "code",
   "execution_count": 30,
   "id": "63fb34e2-a0ab-44e1-9e02-7d285669dc05",
   "metadata": {},
   "outputs": [
    {
     "data": {
      "text/plain": [
       "tensor([[0, 0, 0],\n",
       "        [0, 0, 0]])"
      ]
     },
     "execution_count": 30,
     "metadata": {},
     "output_type": "execute_result"
    }
   ],
   "source": [
    "torch.zeros_like(x)"
   ]
  },
  {
   "cell_type": "code",
   "execution_count": 31,
   "id": "20e80d55-7df5-49c2-83d2-d9e6a057ede1",
   "metadata": {},
   "outputs": [
    {
     "data": {
      "text/plain": [
       "tensor([[1, 1, 1],\n",
       "        [1, 1, 1]])"
      ]
     },
     "execution_count": 31,
     "metadata": {},
     "output_type": "execute_result"
    }
   ],
   "source": [
    "torch.ones_like(x)"
   ]
  },
  {
   "cell_type": "markdown",
   "id": "ee08300d-8aa3-4d89-883b-9a3ea432e0bc",
   "metadata": {},
   "source": [
    "# Tensor DataTypes"
   ]
  },
  {
   "cell_type": "code",
   "execution_count": 32,
   "id": "ecb2bf86-4c60-49dc-b542-bb65b806c413",
   "metadata": {},
   "outputs": [
    {
     "data": {
      "text/plain": [
       "torch.int64"
      ]
     },
     "execution_count": 32,
     "metadata": {},
     "output_type": "execute_result"
    }
   ],
   "source": [
    "x.dtype"
   ]
  },
  {
   "cell_type": "code",
   "execution_count": 33,
   "id": "0653fbaa-0f54-4210-b705-35bb6d36bb36",
   "metadata": {},
   "outputs": [
    {
     "data": {
      "text/plain": [
       "tensor([1, 2, 3], dtype=torch.int32)"
      ]
     },
     "execution_count": 33,
     "metadata": {},
     "output_type": "execute_result"
    }
   ],
   "source": [
    "torch.tensor([1.0, 2.0, 3.0], dtype=torch.int32)"
   ]
  },
  {
   "cell_type": "code",
   "execution_count": 34,
   "id": "0bd1e142-3337-4bd6-babe-932b8e086538",
   "metadata": {},
   "outputs": [
    {
     "data": {
      "text/plain": [
       "tensor([1., 2., 3.])"
      ]
     },
     "execution_count": 34,
     "metadata": {},
     "output_type": "execute_result"
    }
   ],
   "source": [
    "torch.tensor([1, 2, 3], dtype=torch.float32)"
   ]
  },
  {
   "cell_type": "code",
   "execution_count": 35,
   "id": "db0a0cb3-304d-4f64-9d11-5d306e639cf7",
   "metadata": {},
   "outputs": [
    {
     "data": {
      "text/plain": [
       "tensor([[1., 2., 3.],\n",
       "        [4., 5., 6.]])"
      ]
     },
     "execution_count": 35,
     "metadata": {},
     "output_type": "execute_result"
    }
   ],
   "source": [
    "x.to(torch.float32)"
   ]
  },
  {
   "cell_type": "code",
   "execution_count": 37,
   "id": "062888b6-4bc1-4f66-bdfc-83e6ea226dd6",
   "metadata": {},
   "outputs": [
    {
     "data": {
      "text/plain": [
       "tensor([[0.4410, 0.3653, 0.3535],\n",
       "        [0.5971, 0.3572, 0.4807]])"
      ]
     },
     "execution_count": 37,
     "metadata": {},
     "output_type": "execute_result"
    }
   ],
   "source": [
    "torch.rand_like(x, dtype=torch.float32)"
   ]
  },
  {
   "cell_type": "markdown",
   "id": "18a745c0-3726-4e1d-a20b-f78a14414178",
   "metadata": {},
   "source": [
    "# Mathematical Ops"
   ]
  },
  {
   "cell_type": "code",
   "execution_count": 39,
   "id": "d4f0d4e7-d695-4d9b-86d4-744dda2ff5e5",
   "metadata": {},
   "outputs": [
    {
     "data": {
      "text/plain": [
       "tensor([[0.6818, 0.0473],\n",
       "        [0.4856, 0.0260]])"
      ]
     },
     "execution_count": 39,
     "metadata": {},
     "output_type": "execute_result"
    }
   ],
   "source": [
    "x = torch.rand(2,2)\n",
    "x"
   ]
  },
  {
   "cell_type": "code",
   "execution_count": 44,
   "id": "513ff436-34f8-4565-8383-844738de6da8",
   "metadata": {},
   "outputs": [
    {
     "name": "stdout",
     "output_type": "stream",
     "text": [
      "tensor([[2.6818, 2.0473],\n",
      "        [2.4856, 2.0260]])\n",
      "tensor([[-1.3182, -1.9527],\n",
      "        [-1.5144, -1.9740]])\n",
      "tensor([[1.3637, 0.0946],\n",
      "        [0.9713, 0.0521]])\n",
      "tensor([[0.2273, 0.0158],\n",
      "        [0.1619, 0.0087]])\n",
      "tensor([[34.,  2.],\n",
      "        [24.,  1.]])\n",
      "tensor([[0.1841, 0.7283],\n",
      "        [0.5625, 0.6030]])\n"
     ]
    }
   ],
   "source": [
    "print(x + 2)\n",
    "print(x - 2)\n",
    "print(x * 2)\n",
    "print(x / 3)\n",
    "print((x*100) // 2)\n",
    "print((x*100) % 2)"
   ]
  },
  {
   "cell_type": "code",
   "execution_count": 63,
   "id": "ff27643e-0e6f-4464-b810-f095ee1912f0",
   "metadata": {},
   "outputs": [],
   "source": [
    "a = torch.rand(2, 3)\n",
    "b = torch.rand(2, 3)"
   ]
  },
  {
   "cell_type": "code",
   "execution_count": 64,
   "id": "9bb94e97-ce85-46ff-abd2-e3b0ac270115",
   "metadata": {},
   "outputs": [
    {
     "data": {
      "text/plain": [
       "tensor([[0.2569, 0.1575, 0.0148],\n",
       "        [0.6573, 0.8463, 0.8787]])"
      ]
     },
     "execution_count": 64,
     "metadata": {},
     "output_type": "execute_result"
    }
   ],
   "source": [
    "a"
   ]
  },
  {
   "cell_type": "code",
   "execution_count": 65,
   "id": "dc954989-7e59-4be3-b56c-35447304f21c",
   "metadata": {},
   "outputs": [
    {
     "name": "stdout",
     "output_type": "stream",
     "text": [
      "tensor([[0.8407, 0.4625, 0.4894],\n",
      "        [0.6801, 1.5143, 1.4340]])\n",
      "tensor([[-0.3269, -0.1475, -0.4597],\n",
      "        [ 0.6344,  0.1784,  0.3234]])\n",
      "tensor([[0.1500, 0.0480, 0.0070],\n",
      "        [0.0150, 0.5653, 0.4880]])\n",
      "tensor([[ 0.4400,  0.5163,  0.0313],\n",
      "        [28.7552,  1.2671,  1.5824]])\n"
     ]
    }
   ],
   "source": [
    "print(a+b)\n",
    "print(a-b)\n",
    "print(a*b)\n",
    "print(a/b)"
   ]
  },
  {
   "cell_type": "code",
   "execution_count": 48,
   "id": "49c5601f-36c2-4bac-b6d7-4a5681abf067",
   "metadata": {},
   "outputs": [
    {
     "data": {
      "text/plain": [
       "tensor([[0.6446, 0.3346, 0.2739],\n",
       "        [0.5793, 0.4216, 0.2144]])"
      ]
     },
     "execution_count": 48,
     "metadata": {},
     "output_type": "execute_result"
    }
   ],
   "source": [
    "torch.abs(a-b) # also there is round, ceil, floor"
   ]
  },
  {
   "cell_type": "code",
   "execution_count": 50,
   "id": "ddcca527-6c60-462f-b961-b54d61b2adef",
   "metadata": {},
   "outputs": [
    {
     "data": {
      "text/plain": [
       "tensor([[2., 2., 2.],\n",
       "        [2., 2., 2.]])"
      ]
     },
     "execution_count": 50,
     "metadata": {},
     "output_type": "execute_result"
    }
   ],
   "source": [
    "torch.clamp(a*b, min=2, max=3) # below range are set to min, above range are set to max"
   ]
  },
  {
   "cell_type": "code",
   "execution_count": 51,
   "id": "9034763e-763c-473c-8f46-7e183c2d0f4b",
   "metadata": {},
   "outputs": [
    {
     "data": {
      "text/plain": [
       "tensor([[6, 8, 5],\n",
       "        [6, 0, 7]])"
      ]
     },
     "execution_count": 51,
     "metadata": {},
     "output_type": "execute_result"
    }
   ],
   "source": [
    "e = torch.randint(size=(2,3), low=0, high=10)\n",
    "e"
   ]
  },
  {
   "cell_type": "code",
   "execution_count": 52,
   "id": "5a59e0dd-cc90-4d3a-949d-1503c44bebf8",
   "metadata": {},
   "outputs": [
    {
     "data": {
      "text/plain": [
       "tensor(32)"
      ]
     },
     "execution_count": 52,
     "metadata": {},
     "output_type": "execute_result"
    }
   ],
   "source": [
    "torch.sum(e)"
   ]
  },
  {
   "cell_type": "code",
   "execution_count": 54,
   "id": "42c221e3-3138-4631-a1d4-3d720e607462",
   "metadata": {},
   "outputs": [
    {
     "name": "stdout",
     "output_type": "stream",
     "text": [
      "tensor([12,  8, 12])\n",
      "tensor([19, 13])\n"
     ]
    }
   ],
   "source": [
    "print(torch.sum(e, dim=0))\n",
    "print(torch.sum(e, dim=1))\n"
   ]
  },
  {
   "cell_type": "code",
   "execution_count": 78,
   "id": "2e91fa1e-3376-458f-ae7b-5afd554feb74",
   "metadata": {},
   "outputs": [
    {
     "data": {
      "text/plain": [
       "tensor([[0.6447, 0.8081, 0.0081, 0.3580],\n",
       "        [0.2408, 0.8467, 0.8249, 0.4714]])"
      ]
     },
     "execution_count": 78,
     "metadata": {},
     "output_type": "execute_result"
    }
   ],
   "source": [
    "y = torch.rand(2,4)\n",
    "y.to(torch.float32)"
   ]
  },
  {
   "cell_type": "code",
   "execution_count": 79,
   "id": "d91fd361-c70f-4ac0-9542-d48c01f28ddd",
   "metadata": {},
   "outputs": [
    {
     "data": {
      "text/plain": [
       "tensor(0.5253)"
      ]
     },
     "execution_count": 79,
     "metadata": {},
     "output_type": "execute_result"
    }
   ],
   "source": [
    "torch.mean(y)"
   ]
  },
  {
   "cell_type": "code",
   "execution_count": 80,
   "id": "0cc7d052-81ad-4651-b993-167d55e6eb66",
   "metadata": {},
   "outputs": [
    {
     "data": {
      "text/plain": [
       "tensor([0.4547, 0.5959])"
      ]
     },
     "execution_count": 80,
     "metadata": {},
     "output_type": "execute_result"
    }
   ],
   "source": [
    "torch.mean(y, dim=1) # same as mediam, max, min, product, std, var, argmax(position of the largest item) , argmin"
   ]
  },
  {
   "cell_type": "code",
   "execution_count": 81,
   "id": "61974343-aeaf-4c47-969a-be31730d8ad9",
   "metadata": {},
   "outputs": [],
   "source": [
    "# matmul, det, inverse,"
   ]
  },
  {
   "cell_type": "code",
   "execution_count": 82,
   "id": "7971db9b-8b48-4914-bab2-257b39019d59",
   "metadata": {},
   "outputs": [],
   "source": [
    "# has special functions, log, exp, sqrt, sigmoid, softmax, relu"
   ]
  },
  {
   "cell_type": "code",
   "execution_count": 83,
   "id": "dca96498-bee3-43af-9788-dbbfe5f63dd8",
   "metadata": {},
   "outputs": [
    {
     "data": {
      "text/plain": [
       "tensor([[0.6558, 0.6917, 0.5020, 0.5886],\n",
       "        [0.5599, 0.6999, 0.6953, 0.6157]])"
      ]
     },
     "execution_count": 83,
     "metadata": {},
     "output_type": "execute_result"
    }
   ],
   "source": [
    "torch.sigmoid(y)"
   ]
  },
  {
   "cell_type": "code",
   "execution_count": 84,
   "id": "da549fc9-813f-44de-8eae-264e9541f267",
   "metadata": {},
   "outputs": [
    {
     "data": {
      "text/plain": [
       "tensor([[0.5996, 0.4904, 0.3064, 0.4717],\n",
       "        [0.4004, 0.5096, 0.6936, 0.5283]])"
      ]
     },
     "execution_count": 84,
     "metadata": {},
     "output_type": "execute_result"
    }
   ],
   "source": [
    "torch.softmax(y, dim=0) #only considers float"
   ]
  },
  {
   "cell_type": "markdown",
   "id": "3d6945ae-c290-4873-98e6-3d55b1029dab",
   "metadata": {},
   "source": [
    "# Inplace Ops"
   ]
  },
  {
   "cell_type": "code",
   "execution_count": 86,
   "id": "a361e9cc-37d5-4199-91ec-89004b61e0ef",
   "metadata": {},
   "outputs": [
    {
     "data": {
      "text/plain": [
       "tensor([[0.8407, 0.4625, 0.4894],\n",
       "        [0.6801, 1.5143, 1.4340]])"
      ]
     },
     "execution_count": 86,
     "metadata": {},
     "output_type": "execute_result"
    }
   ],
   "source": [
    "a.add_(b)"
   ]
  },
  {
   "cell_type": "code",
   "execution_count": 87,
   "id": "824d4a1e-d768-49d3-b7b0-e424feddad68",
   "metadata": {},
   "outputs": [
    {
     "data": {
      "text/plain": [
       "tensor([[0.5838, 0.3050, 0.4746],\n",
       "        [0.0229, 0.6680, 0.5553]])"
      ]
     },
     "execution_count": 87,
     "metadata": {},
     "output_type": "execute_result"
    }
   ],
   "source": [
    "b"
   ]
  },
  {
   "cell_type": "code",
   "execution_count": 88,
   "id": "f8cc2330-b91d-4593-be50-c0755edcf854",
   "metadata": {},
   "outputs": [
    {
     "data": {
      "text/plain": [
       "tensor([[0.8407, 0.4625, 0.4894],\n",
       "        [0.6801, 1.5143, 1.4340]])"
      ]
     },
     "execution_count": 88,
     "metadata": {},
     "output_type": "execute_result"
    }
   ],
   "source": [
    "a.relu_()"
   ]
  },
  {
   "cell_type": "markdown",
   "id": "982afc87-4e11-423e-bf8d-af27dbed677a",
   "metadata": {},
   "source": [
    "# Copying a Tensor"
   ]
  },
  {
   "cell_type": "code",
   "execution_count": 98,
   "id": "3c17b0e1-1e41-4498-b988-24a9c3567b4d",
   "metadata": {},
   "outputs": [],
   "source": [
    "m = torch.rand(3, 2)\n",
    "n = torch.rand(3, 2)"
   ]
  },
  {
   "cell_type": "code",
   "execution_count": 99,
   "id": "90b181ed-8607-4e7e-b977-e0aee8e56a8e",
   "metadata": {},
   "outputs": [
    {
     "data": {
      "text/plain": [
       "tensor([[0.4181, 0.7387],\n",
       "        [0.5685, 0.5926],\n",
       "        [0.5074, 0.3858]])"
      ]
     },
     "execution_count": 99,
     "metadata": {},
     "output_type": "execute_result"
    }
   ],
   "source": [
    "m"
   ]
  },
  {
   "cell_type": "code",
   "execution_count": 100,
   "id": "4cc76b1c-7b55-4ee5-942c-258dbe91c608",
   "metadata": {},
   "outputs": [
    {
     "data": {
      "text/plain": [
       "tensor([[0.0187, 0.4892],\n",
       "        [0.8931, 0.5635],\n",
       "        [0.9389, 0.8019]])"
      ]
     },
     "execution_count": 100,
     "metadata": {},
     "output_type": "execute_result"
    }
   ],
   "source": [
    "n"
   ]
  },
  {
   "cell_type": "code",
   "execution_count": 101,
   "id": "07f2b61b-34e5-46be-b7ef-1da48d817503",
   "metadata": {},
   "outputs": [],
   "source": [
    "n = m.clone()"
   ]
  },
  {
   "cell_type": "code",
   "execution_count": 102,
   "id": "9bb2772e-039b-4905-80ec-e46e5702dff4",
   "metadata": {},
   "outputs": [
    {
     "data": {
      "text/plain": [
       "1831021401248"
      ]
     },
     "execution_count": 102,
     "metadata": {},
     "output_type": "execute_result"
    }
   ],
   "source": [
    "id(m)"
   ]
  },
  {
   "cell_type": "code",
   "execution_count": 103,
   "id": "9f77c8ca-b704-4617-a351-e7d7305c9df1",
   "metadata": {},
   "outputs": [
    {
     "data": {
      "text/plain": [
       "1831021297360"
      ]
     },
     "execution_count": 103,
     "metadata": {},
     "output_type": "execute_result"
    }
   ],
   "source": [
    "id(n)"
   ]
  },
  {
   "cell_type": "markdown",
   "id": "fa5091f4-f7c7-4a10-b448-ed9f62f1f115",
   "metadata": {},
   "source": [
    "# Tensors using GPU"
   ]
  },
  {
   "cell_type": "code",
   "execution_count": 114,
   "id": "cea57792-0e68-4460-9801-9d70fa7ebb1f",
   "metadata": {},
   "outputs": [
    {
     "data": {
      "text/plain": [
       "True"
      ]
     },
     "execution_count": 114,
     "metadata": {},
     "output_type": "execute_result"
    }
   ],
   "source": [
    "torch.cuda.is_available()"
   ]
  },
  {
   "cell_type": "code",
   "execution_count": 115,
   "id": "8145bdb5-f27a-4886-aeca-6ff4382047f6",
   "metadata": {},
   "outputs": [],
   "source": [
    "device = torch.device('cuda')"
   ]
  },
  {
   "cell_type": "code",
   "execution_count": 116,
   "id": "213e46b0-8f74-4be6-8e6f-582266fd5f52",
   "metadata": {},
   "outputs": [],
   "source": [
    "x = torch.rand((2,3), device=device)"
   ]
  },
  {
   "cell_type": "code",
   "execution_count": 117,
   "id": "53d0b3c7-29bb-4de5-b76d-050938ddda26",
   "metadata": {},
   "outputs": [
    {
     "data": {
      "text/plain": [
       "tensor([[0.4943, 0.8782, 0.3201],\n",
       "        [1.0000, 0.6300, 0.1473]], device='cuda:0')"
      ]
     },
     "execution_count": 117,
     "metadata": {},
     "output_type": "execute_result"
    }
   ],
   "source": [
    "x"
   ]
  },
  {
   "cell_type": "code",
   "execution_count": 118,
   "id": "92f6fffa-f336-424c-a321-65b17e2bf5be",
   "metadata": {},
   "outputs": [],
   "source": [
    "a = torch.rand(2,3)"
   ]
  },
  {
   "cell_type": "code",
   "execution_count": 119,
   "id": "4242d306-76be-4f02-b3fb-a5c2f31e09b2",
   "metadata": {},
   "outputs": [],
   "source": [
    "b = a.to(device)"
   ]
  },
  {
   "cell_type": "code",
   "execution_count": 120,
   "id": "4c5ac5a1-a379-4385-ac17-0965690033a5",
   "metadata": {},
   "outputs": [
    {
     "data": {
      "text/plain": [
       "tensor([[5.2144, 5.6179, 5.6671],\n",
       "        [5.7510, 5.1432, 5.4122]], device='cuda:0')"
      ]
     },
     "execution_count": 120,
     "metadata": {},
     "output_type": "execute_result"
    }
   ],
   "source": [
    "b + 5"
   ]
  },
  {
   "cell_type": "code",
   "execution_count": 123,
   "id": "73887507-a0c6-4f52-aef8-3d252a778643",
   "metadata": {},
   "outputs": [
    {
     "name": "stdout",
     "output_type": "stream",
     "text": [
      "GPU is avail\n",
      "using gpu: NVIDIA GeForce RTX 3050 Laptop GPU\n"
     ]
    }
   ],
   "source": [
    "if torch.cuda.is_available():\n",
    "    print(\"GPU is avail\")\n",
    "    print(f\"using gpu: {torch.cuda.get_device_name(0)}\")\n",
    "else:\n",
    "    print(\"using CPU\")"
   ]
  },
  {
   "cell_type": "code",
   "execution_count": 124,
   "id": "dfc68b3a-e636-4b8a-9f6c-2925bbf101d4",
   "metadata": {},
   "outputs": [
    {
     "data": {
      "text/plain": [
       "True"
      ]
     },
     "execution_count": 124,
     "metadata": {},
     "output_type": "execute_result"
    }
   ],
   "source": [
    "torch.cuda.is_available()"
   ]
  },
  {
   "cell_type": "code",
   "execution_count": 125,
   "id": "4b013aec-713a-4b9b-9220-7160798e3ea0",
   "metadata": {},
   "outputs": [],
   "source": [
    "import time"
   ]
  },
  {
   "cell_type": "code",
   "execution_count": 127,
   "id": "d93c031b-2fda-4443-87e4-930ba5348bdb",
   "metadata": {},
   "outputs": [
    {
     "name": "stdout",
     "output_type": "stream",
     "text": [
      "3.6096837520599365\n",
      "0.45442986488342285\n"
     ]
    }
   ],
   "source": [
    "size = 10000\n",
    "matrix_cpu1 = torch.randn(size, size)\n",
    "matrix_cpu2 = torch.randn(size, size)\n",
    "\n",
    "start_time = time.time()\n",
    "result_cpu = torch.matmul(matrix_cpu1, matrix_cpu2)\n",
    "cpu_time = time.time() - start_time\n",
    "\n",
    "print(cpu_time)\n",
    "\n",
    "matrix_gpu1 = matrix_cpu1.to(device)\n",
    "matrix_gpu2 = matrix_cpu2.to(device)\n",
    "\n",
    "start_time = time.time()\n",
    "result_cpu = torch.matmul(matrix_gpu1, matrix_gpu2)\n",
    "torch.cuda.synchronize()\n",
    "gpu_time = time.time() - start_time\n",
    "\n",
    "print(gpu_time)"
   ]
  },
  {
   "cell_type": "code",
   "execution_count": 128,
   "id": "2f5de5b8-b599-4093-89af-effbabd37ea1",
   "metadata": {},
   "outputs": [],
   "source": [
    "import numpy as np"
   ]
  },
  {
   "cell_type": "code",
   "execution_count": 129,
   "id": "7a6609e3-7a9e-4f13-8a21-408fe03296fc",
   "metadata": {},
   "outputs": [],
   "source": [
    "c = np.array([1,2,3])"
   ]
  },
  {
   "cell_type": "code",
   "execution_count": 130,
   "id": "06045bb6-679e-4253-ad94-c999e224b8f0",
   "metadata": {},
   "outputs": [
    {
     "data": {
      "text/plain": [
       "tensor([1, 2, 3], dtype=torch.int32)"
      ]
     },
     "execution_count": 130,
     "metadata": {},
     "output_type": "execute_result"
    }
   ],
   "source": [
    "torch.from_numpy(c)"
   ]
  },
  {
   "cell_type": "code",
   "execution_count": 131,
   "id": "4d7142a4-edd3-4c34-8b62-f8d4681645fb",
   "metadata": {},
   "outputs": [],
   "source": [
    "x = torch.rand(2, 3)"
   ]
  },
  {
   "cell_type": "code",
   "execution_count": 132,
   "id": "bab0840e-551a-4d7e-9863-54db95ef7d7c",
   "metadata": {},
   "outputs": [
    {
     "data": {
      "text/plain": [
       "array([[0.9948882 , 0.13979489, 0.20726848],\n",
       "       [0.8662255 , 0.20758301, 0.8804913 ]], dtype=float32)"
      ]
     },
     "execution_count": 132,
     "metadata": {},
     "output_type": "execute_result"
    }
   ],
   "source": [
    "x.numpy()"
   ]
  },
  {
   "cell_type": "code",
   "execution_count": null,
   "id": "bf61d720-13af-4163-a39e-224434ff68a1",
   "metadata": {},
   "outputs": [],
   "source": []
  }
 ],
 "metadata": {
  "kernelspec": {
   "display_name": "Python 3 (ipykernel)",
   "language": "python",
   "name": "python3"
  },
  "language_info": {
   "codemirror_mode": {
    "name": "ipython",
    "version": 3
   },
   "file_extension": ".py",
   "mimetype": "text/x-python",
   "name": "python",
   "nbconvert_exporter": "python",
   "pygments_lexer": "ipython3",
   "version": "3.12.4"
  }
 },
 "nbformat": 4,
 "nbformat_minor": 5
}
